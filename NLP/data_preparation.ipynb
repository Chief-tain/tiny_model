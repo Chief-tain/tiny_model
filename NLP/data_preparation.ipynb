{
 "cells": [
  {
   "cell_type": "code",
   "execution_count": 1,
   "metadata": {},
   "outputs": [],
   "source": [
    "import pandas as pd\n",
    "from sklearn.model_selection import train_test_split\n",
    "pd.set_option('display.max_colwidth', None)"
   ]
  },
  {
   "cell_type": "code",
   "execution_count": 2,
   "metadata": {},
   "outputs": [],
   "source": [
    "data = pd.read_csv(r\"filtered_gpt4.csv\")\n",
    "# data = data.rename(columns={'Исполнитель':'executor', 'Группа тем': 'topic_group', 'Текст инцидента':'text', 'Тема': 'topic'})"
   ]
  },
  {
   "cell_type": "code",
   "execution_count": 3,
   "metadata": {},
   "outputs": [],
   "source": [
    "data['label'] = data['label'].apply(lambda x: x.split(')')[0])"
   ]
  },
  {
   "cell_type": "code",
   "execution_count": 4,
   "metadata": {},
   "outputs": [],
   "source": [
    "import re\n",
    "\n",
    "def clean_text(text):\n",
    "    # Удаление ссылок\n",
    "    text = re.sub(r'http\\S+|www.\\S+', '', text)\n",
    "    \n",
    "    # Удаление смайликов\n",
    "    text = re.sub(r'[\\U00010000-\\U0010ffff]', '', text)\n",
    "    \n",
    "    # Удаление всех символов, кроме букв, цифр и знаков пунктуации\n",
    "    text = re.sub(r'[^\\w\\s\\.\\,\\!\\?]', '', text)\n",
    "    \n",
    "    return text\n",
    "\n",
    "data['text'] = data['text'].apply(clean_text)"
   ]
  },
  {
   "cell_type": "code",
   "execution_count": 6,
   "metadata": {},
   "outputs": [
    {
     "data": {
      "text/html": [
       "<div>\n",
       "<style scoped>\n",
       "    .dataframe tbody tr th:only-of-type {\n",
       "        vertical-align: middle;\n",
       "    }\n",
       "\n",
       "    .dataframe tbody tr th {\n",
       "        vertical-align: top;\n",
       "    }\n",
       "\n",
       "    .dataframe thead th {\n",
       "        text-align: right;\n",
       "    }\n",
       "</style>\n",
       "<table border=\"1\" class=\"dataframe\">\n",
       "  <thead>\n",
       "    <tr style=\"text-align: right;\">\n",
       "      <th></th>\n",
       "      <th>Unnamed: 0</th>\n",
       "      <th>text</th>\n",
       "      <th>label</th>\n",
       "    </tr>\n",
       "  </thead>\n",
       "  <tbody>\n",
       "    <tr>\n",
       "      <th>0</th>\n",
       "      <td>0</td>\n",
       "      <td>Блиновская приехала в суд \\n\\nСегодня решается вопрос о продлении домашнего ареста. На заседании королева марафонов назвала себя пророссийским человеком и расплакалась. Также Елена пожаловалась, что электронный браслет ей давит и ограничивает её желание посещать церковь и играть с детьми на площадке. \\n\\nАдвокат Елены рассказал, что она выплатила 30 млн из 918 млн налогов, в неуплате которых ее обвиняют.\\n\\nВся в белом</td>\n",
       "      <td>15</td>\n",
       "    </tr>\n",
       "    <tr>\n",
       "      <th>1</th>\n",
       "      <td>1</td>\n",
       "      <td>Новое руководство FTX смогло вернуть около 7 миллиардов в ликвидных активах.\\n\\nНативный токен биржи FTT отреагировал ростом на 20.\\n\\nDeCenter</td>\n",
       "      <td>8</td>\n",
       "    </tr>\n",
       "    <tr>\n",
       "      <th>2</th>\n",
       "      <td>2</td>\n",
       "      <td>Владелец коллекции NFT потерял более 570 000 изза мошенников \\n \\nПользователь под ником s27 лишился невзаимозаменяемых токенов BAYC  и NFT из коллекции Mutant Ape под номерами  и  Владельца токенов обманули при обмене. \\n \\n     \\n \\n\\nИсточник</td>\n",
       "      <td>8</td>\n",
       "    </tr>\n",
       "    <tr>\n",
       "      <th>3</th>\n",
       "      <td>3</td>\n",
       "      <td>Штaт HьюЙopк paccмoтpит пpинятиe кpиптoвaлют гocучpeждeниями\\n\\nЗaкoнoпpoeкт уже внecли в Accaмблeю штaтa HьюЙopк. Если одобрят, то гocyдapcтвeнные учpeждeния начнут пpинимaть кpипту для oплaты штpaфoв, гpaждaнcкoпpaвoвыx взыcкaний, нaлoгoв, cбopoв и любых дpугиx плaтeжeй, которые взыскивает гocудapcтв\\n\\nПравда, для этого законопроект должны принять как в Accaмблee, так и в Ceнaте штaтa HьюЙopк, и обязательно должен подписать губepнaтop штaтa Kэти Xoкул</td>\n",
       "      <td>8</td>\n",
       "    </tr>\n",
       "    <tr>\n",
       "      <th>4</th>\n",
       "      <td>4</td>\n",
       "      <td>Tkillah подарил цепь с бриллиантами Bustarhymes в честь 50летия хипхопа.\\n\\nПоказал гостеприимство и кинул респекта от русских, получается.</td>\n",
       "      <td>29</td>\n",
       "    </tr>\n",
       "  </tbody>\n",
       "</table>\n",
       "</div>"
      ],
      "text/plain": [
       "   Unnamed: 0  \\\n",
       "0           0   \n",
       "1           1   \n",
       "2           2   \n",
       "3           3   \n",
       "4           4   \n",
       "\n",
       "                                                                                                                                                                                                                                                                                                                                                                                                                                                                         text  \\\n",
       "0                                     Блиновская приехала в суд \\n\\nСегодня решается вопрос о продлении домашнего ареста. На заседании королева марафонов назвала себя пророссийским человеком и расплакалась. Также Елена пожаловалась, что электронный браслет ей давит и ограничивает её желание посещать церковь и играть с детьми на площадке. \\n\\nАдвокат Елены рассказал, что она выплатила 30 млн из 918 млн налогов, в неуплате которых ее обвиняют.\\n\\nВся в белом    \n",
       "1                                                                                                                                                                                                                                                                                                                             Новое руководство FTX смогло вернуть около 7 миллиардов в ликвидных активах.\\n\\nНативный токен биржи FTT отреагировал ростом на 20.\\n\\nDeCenter   \n",
       "2                                                                                                                                                                                                                      Владелец коллекции NFT потерял более 570 000 изза мошенников \\n \\nПользователь под ником s27 лишился невзаимозаменяемых токенов BAYC  и NFT из коллекции Mutant Ape под номерами  и  Владельца токенов обманули при обмене. \\n \\n     \\n \\n\\nИсточник    \n",
       "3  Штaт HьюЙopк paccмoтpит пpинятиe кpиптoвaлют гocучpeждeниями\\n\\nЗaкoнoпpoeкт уже внecли в Accaмблeю штaтa HьюЙopк. Если одобрят, то гocyдapcтвeнные учpeждeния начнут пpинимaть кpипту для oплaты штpaфoв, гpaждaнcкoпpaвoвыx взыcкaний, нaлoгoв, cбopoв и любых дpугиx плaтeжeй, которые взыскивает гocудapcтв\\n\\nПравда, для этого законопроект должны принять как в Accaмблee, так и в Ceнaте штaтa HьюЙopк, и обязательно должен подписать губepнaтop штaтa Kэти Xoкул   \n",
       "4                                                                                                                                                                                                                                                                                                                                 Tkillah подарил цепь с бриллиантами Bustarhymes в честь 50летия хипхопа.\\n\\nПоказал гостеприимство и кинул респекта от русских, получается.   \n",
       "\n",
       "  label  \n",
       "0    15  \n",
       "1     8  \n",
       "2     8  \n",
       "3     8  \n",
       "4    29  "
      ]
     },
     "execution_count": 6,
     "metadata": {},
     "output_type": "execute_result"
    }
   ],
   "source": [
    "data.head(5)"
   ]
  },
  {
   "cell_type": "code",
   "execution_count": 7,
   "metadata": {},
   "outputs": [
    {
     "name": "stdout",
     "output_type": "stream",
     "text": [
      "label\n",
      "3     1432\n",
      "5      958\n",
      "8      900\n",
      "13     849\n",
      "6      801\n",
      "16     779\n",
      "4      769\n",
      "29     560\n",
      "1      471\n",
      "9      430\n",
      "18     321\n",
      "22     229\n",
      "7      172\n",
      "19     160\n",
      "23     103\n",
      "10      98\n",
      "17      79\n",
      "20      74\n",
      "28      49\n",
      "24      46\n",
      "11      34\n",
      "25      32\n",
      "14      32\n",
      "2       27\n",
      "15      26\n",
      "12      26\n",
      "21      14\n",
      "26      13\n",
      "27       6\n",
      "Name: count, dtype: int64\n"
     ]
    }
   ],
   "source": [
    "category_counts = data['label'].value_counts()\n",
    "print(category_counts)"
   ]
  },
  {
   "cell_type": "code",
   "execution_count": 8,
   "metadata": {},
   "outputs": [
    {
     "data": {
      "text/plain": [
       "29"
      ]
     },
     "execution_count": 8,
     "metadata": {},
     "output_type": "execute_result"
    }
   ],
   "source": [
    "data.label.nunique()"
   ]
  },
  {
   "cell_type": "code",
   "execution_count": 11,
   "metadata": {},
   "outputs": [],
   "source": [
    "Х = data['text']\n",
    "y = data['label']\n",
    "\n",
    "X_train, X_rem, y_train, y_rem = train_test_split(Х ,y, train_size=0.7, stratify=y)\n",
    "X_valid, X_test, y_valid, y_test = train_test_split(X_rem, y_rem, test_size=0.5, stratify=y_rem)\n",
    "\n",
    "train_data = pd.concat([X_train, y_train], axis=1)\n",
    "valid_data = pd.concat([X_valid, y_valid], axis=1)\n",
    "test_data = pd.concat([X_test, y_test], axis=1)\n",
    "\n",
    "train_data.columns =['text', 'label']\n",
    "valid_data.columns =['text', 'label']\n",
    "test_data.columns =['text', 'label']\n",
    "\n",
    "train_data.to_csv(r\"train_data.csv\", sep='\\t')\n",
    "valid_data.to_csv(r\"valid_data.csv\", sep='\\t')\n",
    "test_data.to_csv(r\"test_data.csv\", sep='\\t')"
   ]
  },
  {
   "cell_type": "code",
   "execution_count": 7,
   "metadata": {},
   "outputs": [
    {
     "name": "stderr",
     "output_type": "stream",
     "text": [
      "c:\\Users\\Chubu\\AppData\\Local\\Programs\\Python\\Python310\\lib\\site-packages\\tqdm\\auto.py:21: TqdmWarning: IProgress not found. Please update jupyter and ipywidgets. See https://ipywidgets.readthedocs.io/en/stable/user_install.html\n",
      "  from .autonotebook import tqdm as notebook_tqdm\n"
     ]
    }
   ],
   "source": [
    "from bert_classifier import BertClassifier"
   ]
  },
  {
   "cell_type": "code",
   "execution_count": 8,
   "metadata": {},
   "outputs": [],
   "source": [
    "classifier = BertClassifier(model_path=r'C:\\Users\\Chubu\\OneDrive\\Рабочий стол\\last_CP\\NLP\\NaturaLP_LaBSE_topic_group.pt',\n",
    "                            tokenizer_path='cointegrated/LaBSE-en-ru')"
   ]
  },
  {
   "cell_type": "code",
   "execution_count": 9,
   "metadata": {},
   "outputs": [],
   "source": [
    "text = 'Здравствуйте, скажите пожалуйста сколько времени занимает подпись документов на операцию в г Лысьва?В понедельник были переданы документы на подпись на операцию в г Перми сегодня четверг документы до сих пор не пришли. Операция была назначена на 13 сентября.Из Москвы посылка пришла быстрее.'"
   ]
  },
  {
   "cell_type": "code",
   "execution_count": 10,
   "metadata": {},
   "outputs": [],
   "source": [
    "topic_group = classifier.predict(text)"
   ]
  },
  {
   "cell_type": "code",
   "execution_count": 13,
   "metadata": {},
   "outputs": [],
   "source": [
    "collector = dict(enumerate(list(data.topic_group.unique())))"
   ]
  },
  {
   "cell_type": "code",
   "execution_count": 15,
   "metadata": {},
   "outputs": [
    {
     "data": {
      "text/plain": [
       "{0: 'Благоустройство',\n",
       " 1: 'Социальное обслуживание и защита',\n",
       " 2: 'Общественный транспорт',\n",
       " 3: 'Здравоохранение/Медицина',\n",
       " 4: 'Мусор/Свалки/ТКО',\n",
       " 5: 'Образование',\n",
       " 6: 'Дороги',\n",
       " 7: 'ЖКХ',\n",
       " 8: 'Коронавирус',\n",
       " 9: 'Экономика и бизнес',\n",
       " 10: 'Культура',\n",
       " 11: 'Связь и телевидение',\n",
       " 12: 'Газ и топливо',\n",
       " 13: 'Безопасность',\n",
       " 14: 'Спецпроекты',\n",
       " 15: 'Мобилизация',\n",
       " 16: 'МФЦ \"Мои документы\"',\n",
       " 17: 'Физическая культура и спорт',\n",
       " 18: 'Торговля',\n",
       " 19: 'Строительство и архитектура',\n",
       " 20: 'Памятники и объекты культурного наследия',\n",
       " 21: 'Экология',\n",
       " 22: 'Государственная собственность',\n",
       " 23: 'Роспотребнадзор',\n",
       " 24: 'Погребение и похоронное дело',\n",
       " 25: 'Электроснабжение'}"
      ]
     },
     "execution_count": 15,
     "metadata": {},
     "output_type": "execute_result"
    }
   ],
   "source": [
    "collector"
   ]
  },
  {
   "cell_type": "code",
   "execution_count": 14,
   "metadata": {},
   "outputs": [
    {
     "data": {
      "text/plain": [
       "'Здравоохранение/Медицина'"
      ]
     },
     "execution_count": 14,
     "metadata": {},
     "output_type": "execute_result"
    }
   ],
   "source": [
    "collector[topic_group]"
   ]
  },
  {
   "cell_type": "code",
   "execution_count": 12,
   "metadata": {},
   "outputs": [],
   "source": [
    "train_data = pd.read_csv('train_data.csv', encoding='utf-8', delimiter='\\t')\n",
    "valid_data = pd.read_csv('valid_data.csv', encoding='utf-8', delimiter='\\t')\n",
    "test_data = pd.read_csv('test_data.csv', encoding='utf-8', delimiter='\\t')"
   ]
  },
  {
   "cell_type": "code",
   "execution_count": 13,
   "metadata": {},
   "outputs": [
    {
     "name": "stdout",
     "output_type": "stream",
     "text": [
      "29\n",
      "29\n",
      "29\n"
     ]
    }
   ],
   "source": [
    "print(train_data.label.nunique())\n",
    "print(valid_data.label.nunique())\n",
    "print(test_data.label.nunique())"
   ]
  }
 ],
 "metadata": {
  "kernelspec": {
   "display_name": "Python 3",
   "language": "python",
   "name": "python3"
  },
  "language_info": {
   "codemirror_mode": {
    "name": "ipython",
    "version": 3
   },
   "file_extension": ".py",
   "mimetype": "text/x-python",
   "name": "python",
   "nbconvert_exporter": "python",
   "pygments_lexer": "ipython3",
   "version": "3.12.0"
  }
 },
 "nbformat": 4,
 "nbformat_minor": 2
}
